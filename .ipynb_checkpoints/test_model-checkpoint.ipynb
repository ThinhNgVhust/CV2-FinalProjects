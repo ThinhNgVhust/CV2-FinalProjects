{
 "cells": [
  {
   "cell_type": "code",
   "execution_count": 9,
   "metadata": {},
   "outputs": [],
   "source": [
    "import cv2\n",
    "import numpy as np\n",
    "from keras.models import load_model\n",
    "import pickle\n",
    "from mtcnn.mtcnn import MTCNN\n",
    "from numpy import load\n",
    "from numpy import expand_dims"
   ]
  },
  {
   "cell_type": "code",
   "execution_count": 10,
   "metadata": {},
   "outputs": [],
   "source": [
    "def get_embedding(model,face_pixels):\n",
    "    face_pixels = face_pixels.astype('float32')\n",
    "    #mean, standard deviation\n",
    "    mean,std = face_pixels.mean(),face_pixels.std()\n",
    "    samples = np.expand_dims(face_pixels,axis = 0)\n",
    "    yhat = model.predict(samples)\n",
    "    return yhat[0]"
   ]
  },
  {
   "cell_type": "code",
   "execution_count": 12,
   "metadata": {},
   "outputs": [
    {
     "name": "stderr",
     "output_type": "stream",
     "text": [
      "/home/thinh/.local/lib/python3.6/site-packages/keras/engine/saving.py:292: UserWarning: No training configuration found in save file: the model was *not* compiled. Compile it manually.\n",
      "  warnings.warn('No training configuration found in save file: '\n"
     ]
    }
   ],
   "source": [
    "detector = MTCNN()\n",
    "model = pickle.load(open('predict_model.sav', 'rb'))\n",
    "embedding = load_model('facenet_keras.h5')\n",
    "data = load('face-dataset.npz')"
   ]
  },
  {
   "cell_type": "code",
   "execution_count": null,
   "metadata": {},
   "outputs": [],
   "source": []
  },
  {
   "cell_type": "code",
   "execution_count": 17,
   "metadata": {},
   "outputs": [
    {
     "data": {
      "text/plain": [
       "True"
      ]
     },
     "execution_count": 17,
     "metadata": {},
     "output_type": "execute_result"
    }
   ],
   "source": [
    "image = cv2.imread(\"testobama.jpg\",1)\n",
    "\n",
    "result = detector.detect_faces(image)\n",
    "imgs = list()\n",
    "for person in result:\n",
    "    bounding_box = person['box']\n",
    "    keypoints = person['keypoints']\n",
    "    x = bounding_box[1]\n",
    "    y = bounding_box[0]\n",
    "    h = bounding_box[2]\n",
    "    w = bounding_box[3]\n",
    "    imgs.append(image[x:x+w,y:y+h])\n",
    "cv2.waitKey(0)\n",
    "cv2.destroyAllWindows()\n",
    "cv2.imwrite(\"thinh.jpg\",imgs[0])"
   ]
  },
  {
   "cell_type": "code",
   "execution_count": null,
   "metadata": {},
   "outputs": [],
   "source": [
    "# Dùng mtcnn để phát hiện các khuôn mặt\n",
    "# Với mỗi khuôn mặt vừa phát hiện được, resize về kích cỡ 160x160\n",
    "# Chuyển các khuôn mặt về dạng embedding vector\n",
    "# Dự đoán\n",
    "# Nếu threshold < 60: Stranger"
   ]
  },
  {
   "cell_type": "code",
   "execution_count": null,
   "metadata": {},
   "outputs": [],
   "source": []
  },
  {
   "cell_type": "code",
   "execution_count": null,
   "metadata": {},
   "outputs": [],
   "source": []
  },
  {
   "cell_type": "code",
   "execution_count": null,
   "metadata": {},
   "outputs": [],
   "source": []
  }
 ],
 "metadata": {
  "kernelspec": {
   "display_name": "Python 3",
   "language": "python",
   "name": "python3"
  },
  "language_info": {
   "codemirror_mode": {
    "name": "ipython",
    "version": 3
   },
   "file_extension": ".py",
   "mimetype": "text/x-python",
   "name": "python",
   "nbconvert_exporter": "python",
   "pygments_lexer": "ipython3",
   "version": "3.6.8"
  }
 },
 "nbformat": 4,
 "nbformat_minor": 2
}
