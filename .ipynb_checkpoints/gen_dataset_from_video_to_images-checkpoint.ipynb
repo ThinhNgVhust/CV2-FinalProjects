{
 "cells": [
  {
   "cell_type": "code",
   "execution_count": null,
   "metadata": {},
   "outputs": [],
   "source": [
    "import cv2\n",
    "import os\n",
    "from mtcnn.mtcnn import MTCNN\n",
    "# go to directory\n",
    "# obama, donal trump, billgates, stevejobs, mark zukebeg, caption american\n",
    "# read each video and save about 200 frame which is 40 for test, 160 for train\n",
    "# save each image in path: /dataset/train/obama/\n",
    "                          # /dataset/test/obama\n",
    "\n"
   ]
  },
  {
   "cell_type": "code",
   "execution_count": null,
   "metadata": {},
   "outputs": [],
   "source": [
    "def make_dataset(video_path,train_path,test_path,video_name):\n",
    "    if not os.path.isdir(train_path):\n",
    "        os.makedirs(train_path)\n",
    "    if not os.path.isdir(test_path):\n",
    "        os.makedirs(test_path)    \n",
    "    cap = cv2.VideoCapture(video_path)\n",
    "    cap.set(cv2.CAP_PROP_FPS, 60)\n",
    "    detector = MTCNN()\n",
    "    count = 0\n",
    "    while(True):\n",
    "         ret, frame = cap.read()\n",
    "        # Capture frame-by-frame\n",
    "         result = detector.detect_faces(frame)\n",
    "        # Our operations on the frame come here\n",
    "         for person in result:\n",
    "            count += 1\n",
    "            print(count)\n",
    "            bounding_box = person['box']\n",
    "            img = frame[bounding_box[1]:bounding_box[1] + bounding_box[3],bounding_box[0]:bounding_box[0] + bounding_box[2]]\n",
    "            if bounding_box[2] > 120 and bounding_box[3] > 120:\n",
    "                if count <= 40:\n",
    "                    cv2.imwrite(os.path.join(train_path,video_name+str(count)+\".jpg\"),img)\n",
    "                    print(\"train folder\")\n",
    "                if count > 40 and count <= 50:\n",
    "                    cv2.imwrite(os.path.join(test_path,video_name+str(count)+\".jpg\"),img) \n",
    "                    print(\"test folder\")\n",
    "                if count > 50 :\n",
    "                    return\n",
    "          \n",
    "    cap.release()\n",
    "    cv2.destroyAllWindows()\n"
   ]
  },
  {
   "cell_type": "code",
   "execution_count": null,
   "metadata": {},
   "outputs": [],
   "source": [
    "train_path = \"./dataset/train\"\n",
    "test_path = \"./dataset/test\"\n",
    "\n",
    "if not os.path.isdir(\"dataset\"):\n",
    "    os.makedirs(\"dataset\")\n",
    "for video_name in os.listdir(\"./video\"):\n",
    "    video_path = \"./video/\" + video_name\n",
    "    if \"barrack_obama\" in video_name :\n",
    "        print(\"Generating data from %s\" %video_name)\n",
    "        make_dataset(video_path,train_path+\"/obama\",test_path+\"/obama\",video_name[0:video_name.index(\".\")])\n",
    "        print (\"Done\")\n",
    "    elif \"steve_jobs\"  in video_name :\n",
    "        print(\"Generating data from %s\" %video_name)\n",
    "        make_dataset(video_path,train_path+\"/stevejobs\",test_path+\"/stevejobs\",video_name[0:video_name.index(\".\")])\n",
    "        print (\"Done\")\n",
    "    elif \"bill_gates\" in video_name :\n",
    "        print(\"Generating data from %s\" %video_name)\n",
    "        make_dataset(video_path,train_path+\"/billgates\",test_path+\"/billgates\",video_name[0:video_name.index(\".\")])\n",
    "        print (\"Done\")\n",
    "    elif \"mark_zukerbeg\" in video_name : \n",
    "        print(\"Generating data from %s\" %video_name)\n",
    "        make_dataset(video_path,train_path+\"/markzukebeg\",test_path+\"/markzukebeg\",video_name[0:video_name.index(\".\")])\n",
    "        print (\"Done\")\n",
    "\n"
   ]
  },
  {
   "cell_type": "code",
   "execution_count": null,
   "metadata": {},
   "outputs": [],
   "source": []
  },
  {
   "cell_type": "code",
   "execution_count": null,
   "metadata": {},
   "outputs": [],
   "source": []
  }
 ],
 "metadata": {
  "kernelspec": {
   "display_name": "Python 3",
   "language": "python",
   "name": "python3"
  },
  "language_info": {
   "codemirror_mode": {
    "name": "ipython",
    "version": 3
   },
   "file_extension": ".py",
   "mimetype": "text/x-python",
   "name": "python",
   "nbconvert_exporter": "python",
   "pygments_lexer": "ipython3",
   "version": "3.6.8"
  }
 },
 "nbformat": 4,
 "nbformat_minor": 2
}
