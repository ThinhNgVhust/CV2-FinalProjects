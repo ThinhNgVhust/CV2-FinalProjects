{
 "cells": [
  {
   "cell_type": "code",
   "execution_count": 1,
   "metadata": {},
   "outputs": [
    {
     "name": "stderr",
     "output_type": "stream",
     "text": [
      "Using TensorFlow backend.\n"
     ]
    }
   ],
   "source": [
    "from keras.models import load_model\n",
    "import cv2\n",
    "import numpy as np"
   ]
  },
  {
   "cell_type": "code",
   "execution_count": 2,
   "metadata": {},
   "outputs": [],
   "source": [
    "def get_embedding(model,face_pixels):\n",
    "    face_pixels = face_pixels.astype('float32')\n",
    "    #mean, standard deviation\n",
    "    mean,std = face_pixels.mean(),face_pixels.std()\n",
    "    samples = np.expand_dims(face_pixels,axis = 0)\n",
    "    yhat = model.predict(samples)\n",
    "    return yhat[0]"
   ]
  },
  {
   "cell_type": "code",
   "execution_count": null,
   "metadata": {},
   "outputs": [
    {
     "name": "stderr",
     "output_type": "stream",
     "text": [
      "WARNING: Logging before flag parsing goes to stderr.\n",
      "W0709 21:59:03.515685 140451122590016 deprecation_wrapper.py:119] From /home/thinh/.local/lib/python3.6/site-packages/keras/backend/tensorflow_backend.py:497: The name tf.placeholder is deprecated. Please use tf.compat.v1.placeholder instead.\n",
      "\n",
      "W0709 21:59:03.587760 140451122590016 deprecation_wrapper.py:119] From /home/thinh/.local/lib/python3.6/site-packages/keras/backend/tensorflow_backend.py:3636: The name tf.random_uniform is deprecated. Please use tf.random.uniform instead.\n",
      "\n",
      "W0709 21:59:03.631713 140451122590016 deprecation_wrapper.py:119] From /home/thinh/.local/lib/python3.6/site-packages/keras/backend/tensorflow_backend.py:118: The name tf.get_default_graph is deprecated. Please use tf.compat.v1.get_default_graph instead.\n",
      "\n",
      "W0709 21:59:03.757448 140451122590016 deprecation_wrapper.py:119] From /home/thinh/.local/lib/python3.6/site-packages/keras/backend/tensorflow_backend.py:3464: The name tf.nn.max_pool is deprecated. Please use tf.nn.max_pool2d instead.\n",
      "\n",
      "W0709 21:59:09.587946 140451122590016 deprecation.py:506] From /home/thinh/.local/lib/python3.6/site-packages/keras/backend/tensorflow_backend.py:3019: calling dropout (from tensorflow.python.ops.nn_ops) with keep_prob is deprecated and will be removed in a future version.\n",
      "Instructions for updating:\n",
      "Please use `rate` instead of `keep_prob`. Rate should be set to `rate = 1 - keep_prob`.\n"
     ]
    }
   ],
   "source": [
    "#load the face dataset\n",
    "data = np.load('face-dataset.npz')\n",
    "trainX,trainy,testX,testy = data['arr_0'],data['arr_1'],data['arr_2'],data['arr_3']\n",
    "model = load_model('facenet_keras.h5')\n",
    "print('Loaded model')\n",
    "\n",
    "#convert each face in train set to an embedding\n",
    "newTrainX = []\n",
    "for face in trainX:\n",
    "    embedding = get_embedding(model,face)\n",
    "    newTrainX.append(embedding)\n",
    "newTrainX = np.asarray(newTrainX)\n",
    "print(\"Train shape: %s\"%(newTrainX))\n",
    "#convert each face in test set to an embedding\n",
    "newTestX =[]\n",
    "for face in testX:\n",
    "    embedding = get_embedding(model,face)\n",
    "    newTestX.append(embedding)\n",
    "newTestX = np.asarray(newTestX)\n",
    "print(\"Test shape: %s\"%newTestX)\n",
    "#save arrays to one file in compressed format\n",
    "np.savez_compressed('face-dataset-embedding.npz',newTrainX,trainy,newTestX,testy)"
   ]
  },
  {
   "cell_type": "code",
   "execution_count": null,
   "metadata": {},
   "outputs": [],
   "source": []
  }
 ],
 "metadata": {
  "kernelspec": {
   "display_name": "Python 3",
   "language": "python",
   "name": "python3"
  },
  "language_info": {
   "codemirror_mode": {
    "name": "ipython",
    "version": 3
   },
   "file_extension": ".py",
   "mimetype": "text/x-python",
   "name": "python",
   "nbconvert_exporter": "python",
   "pygments_lexer": "ipython3",
   "version": "3.6.7"
  }
 },
 "nbformat": 4,
 "nbformat_minor": 2
}
