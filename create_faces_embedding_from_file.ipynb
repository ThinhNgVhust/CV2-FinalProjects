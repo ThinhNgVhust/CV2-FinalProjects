{
 "cells": [
  {
   "cell_type": "code",
   "execution_count": 1,
   "metadata": {},
   "outputs": [
    {
     "name": "stderr",
     "output_type": "stream",
     "text": [
      "Using TensorFlow backend.\n",
      "/usr/lib/python3.6/importlib/_bootstrap.py:219: RuntimeWarning: compiletime version 3.5 of module 'tensorflow.python.framework.fast_tensor_util' does not match runtime version 3.6\n",
      "  return f(*args, **kwds)\n"
     ]
    }
   ],
   "source": [
    "from keras.models import load_model\n",
    "import cv2\n",
    "import numpy as np"
   ]
  },
  {
   "cell_type": "code",
   "execution_count": 2,
   "metadata": {},
   "outputs": [],
   "source": [
    "def get_embedding(model,face_pixels):\n",
    "    face_pixels = face_pixels.astype('float32')\n",
    "    #mean, standard deviation\n",
    "    mean,std = face_pixels.mean(),face_pixels.std()\n",
    "    samples = np.expand_dims(face_pixels,axis = 0)\n",
    "    yhat = model.predict(samples)\n",
    "    return yhat[0]"
   ]
  },
  {
   "cell_type": "code",
   "execution_count": 3,
   "metadata": {},
   "outputs": [
    {
     "name": "stderr",
     "output_type": "stream",
     "text": [
      "/home/thinh/.local/lib/python3.6/site-packages/keras/engine/saving.py:292: UserWarning: No training configuration found in save file: the model was *not* compiled. Compile it manually.\n",
      "  warnings.warn('No training configuration found in save file: '\n"
     ]
    },
    {
     "name": "stdout",
     "output_type": "stream",
     "text": [
      "Loaded model\n",
      "Train shape: [[ 0.14490171  1.007245   -0.47431064 ... -0.89432085  1.3222994\n",
      "  -1.6225501 ]\n",
      " [-0.538008    0.9190496  -0.6001541  ... -1.1406403   1.4568745\n",
      "  -1.1440126 ]\n",
      " [-0.45129558  1.1036434  -0.13408485 ... -0.80276537  1.5114195\n",
      "  -1.773473  ]\n",
      " ...\n",
      " [-0.06894761  0.9779844   0.4842024  ...  0.07771175  2.3089054\n",
      "  -1.9398263 ]\n",
      " [ 0.2316159   0.90076625  0.3592404  ... -0.09685795  1.518962\n",
      "  -1.8846308 ]\n",
      " [-0.1604007   0.6466843   0.2217598  ...  0.00489556  1.3739247\n",
      "  -2.01536   ]]\n",
      "Test shape: [[ 0.05798538  0.56726    -0.14334404 ... -0.50967366  0.9145466\n",
      "  -1.8581613 ]\n",
      " [ 0.33195618  1.417363   -0.54703647 ... -0.50791514  1.2730201\n",
      "  -1.6761202 ]\n",
      " [-0.43452474  1.1466478  -0.2727963  ... -0.8552898   1.6241026\n",
      "  -1.6788254 ]\n",
      " ...\n",
      " [ 0.02292788  0.40579677  0.8764407  ... -0.20788023  1.471543\n",
      "  -1.9747734 ]\n",
      " [ 0.1413952   0.61443067  0.42760995 ...  0.16067162  1.7801895\n",
      "  -2.1923344 ]\n",
      " [ 0.49779582  1.0202245   0.33959407 ...  0.21944949  1.2273294\n",
      "  -2.4392464 ]]\n"
     ]
    }
   ],
   "source": [
    "#load the face dataset\n",
    "data = np.load('face-dataset.npz')\n",
    "trainX,trainy,testX,testy = data['arr_0'],data['arr_1'],data['arr_2'],data['arr_3']\n",
    "model = load_model('facenet_keras.h5')\n",
    "print('Loaded model')\n",
    "\n",
    "#convert each face in train set to an embedding\n",
    "newTrainX = []\n",
    "for face in trainX:\n",
    "    embedding = get_embedding(model,face)\n",
    "    newTrainX.append(embedding)\n",
    "newTrainX = np.asarray(newTrainX)\n",
    "print(\"Train shape: %s\"%(newTrainX.shape))\n",
    "#convert each face in test set to an embedding\n",
    "newTestX =[]\n",
    "for face in testX:\n",
    "    embedding = get_embedding(model,face)\n",
    "    newTestX.append(embedding)\n",
    "newTestX = np.asarray(newTestX)\n",
    "print(\"Test shape: %s\"%newTestX.shape)\n",
    "#save arrays to one file in compressed format\n",
    "np.savez_compressed('face-dataset-embedding.npz',newTrainX,trainy,newTestX,testy)\n",
    "print(\"saved face-dataset-embedding.npz\")"
   ]
  },
  {
   "cell_type": "code",
   "execution_count": null,
   "metadata": {},
   "outputs": [],
   "source": []
  }
 ],
 "metadata": {
  "kernelspec": {
   "display_name": "Python 3",
   "language": "python",
   "name": "python3"
  },
  "language_info": {
   "codemirror_mode": {
    "name": "ipython",
    "version": 3
   },
   "file_extension": ".py",
   "mimetype": "text/x-python",
   "name": "python",
   "nbconvert_exporter": "python",
   "pygments_lexer": "ipython3",
   "version": "3.6.8"
  }
 },
 "nbformat": 4,
 "nbformat_minor": 2
}
