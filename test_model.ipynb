{
 "cells": [
  {
   "cell_type": "code",
   "execution_count": 1,
   "metadata": {},
   "outputs": [
    {
     "name": "stderr",
     "output_type": "stream",
     "text": [
      "Using TensorFlow backend.\n",
      "/usr/lib/python3.6/importlib/_bootstrap.py:219: RuntimeWarning: compiletime version 3.5 of module 'tensorflow.python.framework.fast_tensor_util' does not match runtime version 3.6\n",
      "  return f(*args, **kwds)\n"
     ]
    }
   ],
   "source": [
    "import cv2\n",
    "import numpy as np\n",
    "from keras.models import load_model\n",
    "import pickle\n",
    "from mtcnn.mtcnn import MTCNN\n",
    "from numpy import load\n",
    "from numpy import expand_dims"
   ]
  },
  {
   "cell_type": "code",
   "execution_count": 2,
   "metadata": {},
   "outputs": [],
   "source": [
    "def get_embedding(model,face_pixels):\n",
    "    face_pixels = face_pixels.astype('float32')\n",
    "    #mean, standard deviation\n",
    "    mean,std = face_pixels.mean(),face_pixels.std()\n",
    "    samples = np.expand_dims(face_pixels,axis = 0)\n",
    "    yhat = model.predict(samples)\n",
    "    return yhat[0]"
   ]
  },
  {
   "cell_type": "code",
   "execution_count": 3,
   "metadata": {},
   "outputs": [
    {
     "name": "stderr",
     "output_type": "stream",
     "text": [
      "/home/thinh/.local/lib/python3.6/site-packages/keras/engine/saving.py:292: UserWarning: No training configuration found in save file: the model was *not* compiled. Compile it manually.\n",
      "  warnings.warn('No training configuration found in save file: '\n"
     ]
    }
   ],
   "source": [
    "detector = MTCNN()\n",
    "model = pickle.load(open('predict_model.sav', 'rb'))\n",
    "embedding = load_model('facenet_keras.h5')\n",
    "data = load('face-dataset.npz')"
   ]
  },
  {
   "cell_type": "code",
   "execution_count": 4,
   "metadata": {},
   "outputs": [],
   "source": [
    "# Dùng mtcnn để phát hiện các khuôn mặt\n",
    "# Với mỗi khuôn mặt vừa phát hiện được, resize về kích cỡ 160x160\n",
    "image = cv2.imread(\"1.jpg\",1)\n",
    "\n",
    "result = detector.detect_faces(image)\n",
    "imgs = list()\n",
    "for person in result:\n",
    "    bounding_box = person['box']\n",
    "    keypoints = person['keypoints']\n",
    "    x = bounding_box[1]\n",
    "    y = bounding_box[0]\n",
    "    h = bounding_box[2]\n",
    "    w = bounding_box[3]\n",
    "    img = image[x:x+w,y:y+h]\n",
    "    img = cv2.resize(img,(160,160))\n",
    "    imgs.append(img)\n",
    "cv2.waitKey(0)\n",
    "cv2.destroyAllWindows()"
   ]
  },
  {
   "cell_type": "code",
   "execution_count": 5,
   "metadata": {},
   "outputs": [],
   "source": [
    "# Chuyển các khuôn mặt về dạng embedding vector\n",
    "embedding_imgs = list()\n",
    "for img in imgs:\n",
    "    embedding_imgs.append(get_embedding(embedding,img))\n",
    "    \n"
   ]
  },
  {
   "cell_type": "code",
   "execution_count": 6,
   "metadata": {},
   "outputs": [],
   "source": [
    "# Dự đoán\n",
    "samples = expand_dims(embedding_imgs[0],axis = 0)\n",
    "# Nếu threshold < 60: Stranger"
   ]
  },
  {
   "cell_type": "code",
   "execution_count": 7,
   "metadata": {},
   "outputs": [
    {
     "name": "stdout",
     "output_type": "stream",
     "text": [
      "yhat_class:  [0]\n",
      "[[9.99999817e-01 1.00000022e-07 5.00000108e-08 3.33338835e-08]]\n"
     ]
    }
   ],
   "source": [
    "yhat_class = model.predict(samples)\n",
    "print(\"yhat_class: \",yhat_class)\n",
    "yhat_prob = model.predict_proba(samples)\n",
    "print(yhat_prob)"
   ]
  },
  {
   "cell_type": "code",
   "execution_count": 8,
   "metadata": {},
   "outputs": [],
   "source": [
    "cv2.imshow(\"hhh\",imgs[0])\n",
    "cv2.waitKey(0)\n",
    "cv2.destroyAllWindows()"
   ]
  },
  {
   "cell_type": "code",
   "execution_count": 9,
   "metadata": {},
   "outputs": [],
   "source": [
    "for i in range(len(imgs)):\n",
    "    cv2.imwrite(str(i)+\".jpg\",imgs[i])"
   ]
  },
  {
   "cell_type": "code",
   "execution_count": null,
   "metadata": {},
   "outputs": [],
   "source": []
  }
 ],
 "metadata": {
  "kernelspec": {
   "display_name": "Python 3",
   "language": "python",
   "name": "python3"
  },
  "language_info": {
   "codemirror_mode": {
    "name": "ipython",
    "version": 3
   },
   "file_extension": ".py",
   "mimetype": "text/x-python",
   "name": "python",
   "nbconvert_exporter": "python",
   "pygments_lexer": "ipython3",
   "version": "3.6.8"
  }
 },
 "nbformat": 4,
 "nbformat_minor": 2
}
