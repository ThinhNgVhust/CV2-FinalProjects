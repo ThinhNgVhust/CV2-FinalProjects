{
 "cells": [
  {
   "cell_type": "code",
   "execution_count": 2,
   "metadata": {},
   "outputs": [
    {
     "name": "stderr",
     "output_type": "stream",
     "text": [
      "Using TensorFlow backend.\n"
     ]
    }
   ],
   "source": [
    "import cv2\n",
    "import numpy as np\n",
    "from keras.models import load_model\n",
    "import pickle\n",
    "from mtcnn.mtcnn import MTCNN"
   ]
  },
  {
   "cell_type": "code",
   "execution_count": 3,
   "metadata": {},
   "outputs": [
    {
     "name": "stderr",
     "output_type": "stream",
     "text": [
      "WARNING: Logging before flag parsing goes to stderr.\n",
      "W0709 22:44:14.157736 139916862644544 deprecation_wrapper.py:119] From /usr/local/lib/python3.6/site-packages/mtcnn/mtcnn.py:187: The name tf.ConfigProto is deprecated. Please use tf.compat.v1.ConfigProto instead.\n",
      "\n",
      "W0709 22:44:14.184084 139916862644544 deprecation_wrapper.py:119] From /usr/local/lib/python3.6/site-packages/mtcnn/mtcnn.py:193: The name tf.Session is deprecated. Please use tf.compat.v1.Session instead.\n",
      "\n",
      "W0709 22:44:14.233044 139916862644544 deprecation_wrapper.py:119] From /usr/local/lib/python3.6/site-packages/mtcnn/network.py:43: The name tf.variable_scope is deprecated. Please use tf.compat.v1.variable_scope instead.\n",
      "\n",
      "W0709 22:44:14.234106 139916862644544 deprecation_wrapper.py:119] From /usr/local/lib/python3.6/site-packages/mtcnn/layer_factory.py:88: The name tf.placeholder is deprecated. Please use tf.compat.v1.placeholder instead.\n",
      "\n",
      "W0709 22:44:14.237669 139916862644544 deprecation_wrapper.py:119] From /usr/local/lib/python3.6/site-packages/mtcnn/layer_factory.py:79: The name tf.get_variable is deprecated. Please use tf.compat.v1.get_variable instead.\n",
      "\n",
      "W0709 22:44:14.239218 139916862644544 deprecation.py:506] From /home/thinh/.local/lib/python3.6/site-packages/tensorflow/python/ops/init_ops.py:1251: calling VarianceScaling.__init__ (from tensorflow.python.ops.init_ops) with dtype is deprecated and will be removed in a future version.\n",
      "Instructions for updating:\n",
      "Call initializer instance with the dtype argument instead of passing it to the constructor\n",
      "W0709 22:44:14.285095 139916862644544 deprecation_wrapper.py:119] From /usr/local/lib/python3.6/site-packages/mtcnn/layer_factory.py:171: The name tf.nn.max_pool is deprecated. Please use tf.nn.max_pool2d instead.\n",
      "\n",
      "W0709 22:44:14.380203 139916862644544 deprecation.py:323] From /usr/local/lib/python3.6/site-packages/mtcnn/layer_factory.py:221: div (from tensorflow.python.ops.math_ops) is deprecated and will be removed in a future version.\n",
      "Instructions for updating:\n",
      "Deprecated in favor of operator or tf.math.divide.\n",
      "W0709 22:44:14.617102 139916862644544 deprecation_wrapper.py:119] From /usr/local/lib/python3.6/site-packages/mtcnn/layer_factory.py:196: The name tf.nn.xw_plus_b is deprecated. Please use tf.compat.v1.nn.xw_plus_b instead.\n",
      "\n"
     ]
    }
   ],
   "source": [
    "detector = MTCNN()\n",
    "predict_model = pickle.load(open('predict_model.sav', 'rb'))"
   ]
  },
  {
   "cell_type": "code",
   "execution_count": 8,
   "metadata": {},
   "outputs": [
    {
     "name": "stdout",
     "output_type": "stream",
     "text": [
      "(600, 1200, 3)\n",
      "{'box': [432, 238, 113, 134], 'confidence': 0.9999986886978149, 'keypoints': {'left_eye': (465, 288), 'right_eye': (515, 290), 'nose': (491, 315), 'mouth_left': (466, 335), 'mouth_right': (516, 337)}}\n",
      "{'box': [181, 162, 109, 142], 'confidence': 0.9999561309814453, 'keypoints': {'left_eye': (220, 216), 'right_eye': (273, 221), 'nose': (249, 247), 'mouth_left': (214, 265), 'mouth_right': (266, 270)}}\n",
      "{'box': [740, 171, 113, 144], 'confidence': 0.9996675252914429, 'keypoints': {'left_eye': (780, 224), 'right_eye': (833, 223), 'nose': (812, 256), 'mouth_left': (775, 273), 'mouth_right': (831, 273)}}\n",
      "{'box': [994, 217, 100, 128], 'confidence': 0.9996657371520996, 'keypoints': {'left_eye': (1021, 270), 'right_eye': (1068, 268), 'nose': (1043, 292), 'mouth_left': (1023, 315), 'mouth_right': (1067, 315)}}\n"
     ]
    }
   ],
   "source": [
    "image = cv2.imread(\"testobama.jpg\",1)\n",
    "\n",
    "print (image.shape)\n",
    "result = detector.detect_faces(image)\n",
    "for person in result:\n",
    "    print (person)\n",
    "    bounding_box = person['box']\n",
    "    keypoints = person['keypoints']\n",
    "    x = bounding_box[1]\n",
    "    y = bounding_box[0]\n",
    "    w = bounding_box[2]\n",
    "    h = bounding_box[3]\n",
    "    cv2.rectangle(image, (bounding_box[0], bounding_box[1]),(bounding_box[0]+bounding_box[2], bounding_box[1] + bounding_box[3]),(0,155,155),2)\n",
    "cv2.imshow(\"t\",image)\n",
    "cv2.waitKey(0)\n",
    "cv2.destroyAllWindows()"
   ]
  },
  {
   "cell_type": "code",
   "execution_count": null,
   "metadata": {},
   "outputs": [],
   "source": [
    "# dung mtcnn de du doan\n",
    "# voi moi ket qua, resize thanh img 160x160x3\n",
    "# chuyen cac anh thanh dang embedding vector\n",
    "# du doan\n",
    "# thresh old < 50: strangeger"
   ]
  }
 ],
 "metadata": {
  "kernelspec": {
   "display_name": "Python 3",
   "language": "python",
   "name": "python3"
  }
 },
 "nbformat": 4,
 "nbformat_minor": 2
}
