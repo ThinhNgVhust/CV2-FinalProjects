{
 "cells": [
  {
   "cell_type": "code",
   "execution_count": 1,
   "metadata": {},
   "outputs": [],
   "source": [
    "import os\n",
    "import cv2\n",
    "import numpy as np"
   ]
  },
  {
   "cell_type": "code",
   "execution_count": 2,
   "metadata": {},
   "outputs": [],
   "source": [
    "#load images of faces for all images in a directory\n",
    "def load_faces(directory):\n",
    "    faces = []\n",
    "    #enumerate files\n",
    "    for file_name in os.listdir(directory):\n",
    "        #get all faces in a folder of a person\n",
    "            img = cv2.imread(os.path.join(directory,file_name),1)\n",
    "            faces.append(img)\n",
    "    return faces        "
   ]
  },
  {
   "cell_type": "code",
   "execution_count": 3,
   "metadata": {},
   "outputs": [],
   "source": [
    "def load_dataset(directory):\n",
    "    X,y = [],[]\n",
    "    for subdir in os.listdir(directory):\n",
    "        path = directory + \"/\" + subdir\n",
    "        faces = load_faces(path)\n",
    "#         create labels for faces in subfolder\n",
    "        labels = [subdir for i in range(len(faces))]\n",
    "        X.extend(faces)\n",
    "        y.extend(labels)\n",
    "        print('>loaded %d examples for class: %s' % (len(faces), subdir))\n",
    "    return np.asarray(X),np.asarray(y)    "
   ]
  },
  {
   "cell_type": "code",
   "execution_count": 4,
   "metadata": {},
   "outputs": [
    {
     "name": "stdout",
     "output_type": "stream",
     "text": [
      ">loaded 160 examples for class: markzukebeg\n",
      ">loaded 160 examples for class: stevejobs\n",
      ">loaded 160 examples for class: obama\n",
      ">loaded 160 examples for class: billgates\n",
      "Train shape: (640, 160, 160, 3) - (640,)\n",
      ">loaded 40 examples for class: markzukebeg\n",
      ">loaded 40 examples for class: stevejobs\n",
      ">loaded 40 examples for class: obama\n",
      ">loaded 40 examples for class: billgates\n",
      "Test shape: (640, 160, 160, 3) - (640,)\n"
     ]
    }
   ],
   "source": [
    "path_train = \"./dataset/train\"\n",
    "path_test = \"./dataset/test\"\n",
    "trainX, trainy = load_dataset(path_train)\n",
    "print(\"Train shape: %s - %s\" %(trainX.shape,trainy.shape))\n",
    "testX, testy = load_dataset(path_test)\n",
    "print(\"Test shape: %s - %s\" %(trainX.shape,trainy.shape))"
   ]
  },
  {
   "cell_type": "code",
   "execution_count": 5,
   "metadata": {},
   "outputs": [],
   "source": [
    "#save arrays to file in .npz format\n",
    "np.savez_compressed(\"face-dataset.npz\",trainX, trainy, testX,testy)"
   ]
  },
  {
   "cell_type": "code",
   "execution_count": null,
   "metadata": {},
   "outputs": [],
   "source": []
  }
 ],
 "metadata": {
  "kernelspec": {
   "display_name": "Python 3",
   "language": "python",
   "name": "python3"
  },
  "language_info": {
   "codemirror_mode": {
    "name": "ipython",
    "version": 3
   },
   "file_extension": ".py",
   "mimetype": "text/x-python",
   "name": "python",
   "nbconvert_exporter": "python",
   "pygments_lexer": "ipython3",
   "version": "3.6.8"
  }
 },
 "nbformat": 4,
 "nbformat_minor": 2
}
